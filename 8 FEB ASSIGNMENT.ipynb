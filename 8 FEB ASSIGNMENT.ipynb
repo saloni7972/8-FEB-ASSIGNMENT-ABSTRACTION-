{
 "cells": [
  {
   "cell_type": "markdown",
   "id": "1407b236-2bd2-4ef7-a6e6-ce38e1a5e0c6",
   "metadata": {},
   "source": [
    "# 8 FEB ASSIGNMENT"
   ]
  },
  {
   "cell_type": "markdown",
   "id": "3c1269bb-b172-4a76-9790-c4185faca4a6",
   "metadata": {},
   "source": [
    "Q1. What is Abstraction in OOps? Explain with an example."
   ]
  },
  {
   "cell_type": "markdown",
   "id": "df56ceb4-1aea-4c21-9280-912cfe817e8b",
   "metadata": {},
   "source": [
    "ANSWER==\n",
    "Abstraction is the process of hiding the internal details of an application from the outer world. Abstraction is used to describe things in simple terms. It's used to create a boundary between the application and the client programs.\n",
    "An example of abstraction in computer science is application programming interfaces or APIs. An API is essentially a bridge between two applications that allows them to communicate and work together."
   ]
  },
  {
   "cell_type": "markdown",
   "id": "ba113b8f-76fe-4acf-8ec2-92818e6dcfcb",
   "metadata": {},
   "source": [
    "Q2. Differentiate between Abstraction and Encapsulation. Explain with an example."
   ]
  },
  {
   "cell_type": "markdown",
   "id": "58947fea-c170-4325-af52-4558d0a38210",
   "metadata": {},
   "source": [
    "ANSWER==\n",
    "Abstraction is a way of representing some specific data. Encapsulation is a way of hiding the complexity of something and exposing only the parts you wish to expose. For example, if you have a class that has one or more private fields that you use to store the data, then you are in encapsulation."
   ]
  },
  {
   "cell_type": "markdown",
   "id": "893d2e5b-468e-46e0-821b-a4e039d979a7",
   "metadata": {},
   "source": [
    "Q3. What is abc module in python? Why is it used?"
   ]
  },
  {
   "cell_type": "markdown",
   "id": "b6061a88-2112-4c46-9185-dcc9b4790ef5",
   "metadata": {},
   "source": [
    "ANSWER==\n",
    "This module provides the infrastructure for defining abstract base classes (ABCs) in Python, as outlined in PEP 3119; see the PEP for why this was added to Python. (See also PEP 3141 and the numbers module regarding a type hierarchy for numbers based on ABCs.)"
   ]
  },
  {
   "cell_type": "markdown",
   "id": "e89237fe-b998-40fd-9126-c8ffd59d0ae3",
   "metadata": {},
   "source": [
    "Q4. How can we achieve data abstraction?"
   ]
  },
  {
   "cell_type": "code",
   "execution_count": null,
   "id": "3bb29711-427e-4259-99cc-7fd418e92051",
   "metadata": {},
   "outputs": [],
   "source": [
    "ANSWER==\n",
    "In Python, abstraction can be achieved by having/using abstract classes and methods in our programs. Understanding Abstract Methods and Classes: An abstract method is a method that is declared, but does not contain implementation."
   ]
  }
 ],
 "metadata": {
  "kernelspec": {
   "display_name": "Python 3 (ipykernel)",
   "language": "python",
   "name": "python3"
  },
  "language_info": {
   "codemirror_mode": {
    "name": "ipython",
    "version": 3
   },
   "file_extension": ".py",
   "mimetype": "text/x-python",
   "name": "python",
   "nbconvert_exporter": "python",
   "pygments_lexer": "ipython3",
   "version": "3.10.8"
  }
 },
 "nbformat": 4,
 "nbformat_minor": 5
}
